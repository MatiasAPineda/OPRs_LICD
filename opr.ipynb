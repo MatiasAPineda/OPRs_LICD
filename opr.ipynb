{
 "cells": [
  {
   "cell_type": "code",
   "execution_count": null,
   "metadata": {},
   "outputs": [],
   "source": [
    "import pandas as pd"
   ]
  },
  {
   "cell_type": "markdown",
   "metadata": {},
   "source": [
    "# <img style=\"float: left; padding: 0px 10px 0px 0px;\" src=\"https://upload.wikimedia.org/wikipedia/commons/thumb/8/84/Escudo_de_la_Pontificia_Universidad_Cat%C3%B3lica_de_Chile.svg/1920px-Escudo_de_la_Pontificia_Universidad_Cat%C3%B3lica_de_Chile.svg.png\"  width=\"140\" /> **Optativos de Profundización (OPR's)**\n",
    "**Licenciatura en Ingeniería en Ciencias de Datos**<br>\n",
    "**Pontificia Universidad Católica de Chile**<br>\n",
    "**Autor:** Matías Armando Pineda<br>\n",
    "**Email:** matias.pineda@uc.cl"
   ]
  },
  {
   "cell_type": "markdown",
   "metadata": {},
   "source": [
    "## Introducción:\n",
    "---\n",
    "Este Notebook está hecho para visualizar los optativos de profundización de la carrera, según los ramos aprobados de uno. La idea de que cualquier persona, independiente del semestre y sus ramos aprobados, pueda hacer un filtro sin tomarse la tediosa tarea de buscar cada OPR en catálogo uc.\n",
    "\n",
    "Se espera que este Notebook acompañe a cada uno en su trayectoria académica, que sea único al igual que el usuario y sea moldeable a cada cambio que efectue la unidad académica (`IMC`).\n",
    "\n",
    "Toda la información presentada en los archivos `.csv` que se usan en este Notebook fueron obtenidos de la página oficial de la Pontificia Universidad Católica de Chile: https://catalogo.uc.cl.\n",
    "\n",
    "## Archivo `malla_licd.xlsx`:\n",
    "---\n",
    "En la carpeta `Data` adjunta a este Notebook se encuentra el archivo excel `malla_licd` con todos los ramos de la carrera, es deber del usuario modificar `EXCLUSIVAMENTE` el atributo de `aprobado` de cada ramo de la malla, en caso contrario simplemente el código va a dejar de funcionar correctamente.\n",
    "\n",
    "Notese que los datos de cada semestre poseen más datos que los que se usarán para este Notebook, la idea es teminar de perfilar estos datos para crear más herramientas parecidas a este Notebook.\n",
    "\n",
    "## Archivo `oprs.csv`:\n",
    "---\n",
    "Este archivo `.csv` guarda los datos de los optativos de profundización que se pueden elegir a lo largo de la carrera, todo `opr` presenta:\n",
    "* Sigla\n",
    "* Nombre\n",
    "* Unidad Académica a Cargo\n",
    "* Nivel (PR, MG, DT)\n",
    "* Pre-requisitos \n",
    "\n",
    "Idealmente no modificar este archivo, cualquier actualización de este será infomado y subido al repositorio. Si se encuentra algún error en los datos, por favor contactarse a la brevedad por el mail entregado al comienzo de este Notebook.\n",
    "\n",
    "## Carga de Data:\n",
    "---"
   ]
  },
  {
   "cell_type": "code",
   "execution_count": null,
   "metadata": {},
   "outputs": [],
   "source": [
    "malla = {}\n",
    "for i in range(8):\n",
    "    malla[i+1] = pd.read_excel(f'Data/malla_licd.xlsx', sheet_name=f'semestre {i+1}')\n",
    "    malla[i+1]['pre-requisitos'] = malla[i+1]['pre-requisitos'].apply(lambda x: x.split(',') if type(x) == str else x)\n",
    "malla[1]"
   ]
  },
  {
   "cell_type": "code",
   "execution_count": null,
   "metadata": {},
   "outputs": [],
   "source": [
    "oprs = pd.read_csv('Data/oprs.csv')\n",
    "oprs['pre-requisitos'] = oprs['pre-requisitos'].apply(lambda x: x.split(','))\n",
    "oprs.head()"
   ]
  },
  {
   "cell_type": "markdown",
   "metadata": {},
   "source": [
    "## Búsqueda de OPR's:\n",
    "---\n",
    "Recuerde que este código sólo entrega los ramos que se puede optar según los ramos aprobados guardados en la carpeta `Malla`."
   ]
  },
  {
   "cell_type": "code",
   "execution_count": null,
   "metadata": {},
   "outputs": [],
   "source": [
    "def search_oprs(oprs: pd.DataFrame, cursos: dict):\n",
    "    # Ramos Aprobados\n",
    "    aprob = []\n",
    "    for i in range(8):\n",
    "        for j in range(4):\n",
    "            if cursos[i+1].iloc[j]['aprobado']:\n",
    "                aprob.append(cursos[i+1].iloc[j]['sigla'])\n",
    "    \n",
    "    # Indices de Ramos que no se pueden tomar\n",
    "    cant = []\n",
    "    for i in range(oprs.shape[0]):\n",
    "        for ramo in oprs.iloc[i]['pre-requisitos']:\n",
    "            if ramo not in aprob and ramo != 'No tiene':\n",
    "                cant.append(i)\n",
    "                break\n",
    "    \n",
    "    df = oprs.copy()\n",
    "    df.drop(index=cant, inplace=True)\n",
    "\n",
    "    # Se entrega el DataFrame final con los ramos que se puede tomar\n",
    "    return df\n",
    "\n",
    "# Resultado\n",
    "search_oprs(oprs, malla)"
   ]
  }
 ],
 "metadata": {
  "kernelspec": {
   "display_name": "Python 3",
   "language": "python",
   "name": "python3"
  },
  "language_info": {
   "codemirror_mode": {
    "name": "ipython",
    "version": 3
   },
   "file_extension": ".py",
   "mimetype": "text/x-python",
   "name": "python",
   "nbconvert_exporter": "python",
   "pygments_lexer": "ipython3",
   "version": "3.11.3"
  }
 },
 "nbformat": 4,
 "nbformat_minor": 2
}
